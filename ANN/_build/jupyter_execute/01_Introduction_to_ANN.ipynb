{
 "cells": [
  {
   "cell_type": "markdown",
   "metadata": {
    "collapsed": false
   },
   "source": [
    "\n",
    "# What are Artificial Neural Networks?\n",
    "Artificial neural networks (ANN) are powerful classification models that are able to capture complex non-linear relationships between the independent and dependent variables.They are well-known and widely accepted in different uses, such as vision, speech, and language processing. In these domains, they have consistently demonstrated superior performance compared to other classification models and, in some instances, have even surpassed human capabilities.\n",
    "\n",
    "\n",
    "### How were they born?\n",
    "Throughout history, the exploration of artificial neural networks has been fueled by the ambition to replicate the intricacies of biological neural systems. The human brain, comprised of approximately 100 billion interconnected neurons communicating through axons and dendrites, forms a complex network essential for our ability to learn new tasks and perform daily activities.\n",
    "\n",
    "Each neuron performs a fundamental modular function, responding to nerve activations and transmitting them. However, it is the combination of these basic functions that allows for the expression of complex behaviors. This foundational concept serves as the cornerstone for constructing artificial neural networks.\n",
    "\n",
    "\n",
    "\n",
    "![neurone_biologico](images/neurone_biologico.png)\n",
    "\n",
    "Image credit: https://dreams.news/articles/reti-neurali-artificiali-quando-l-it-si-ispira-al-cervello-biologico-parte-1\n",
    "\n",
    "An additional critical aspect is the strength of the connection point, known as a synapse, between a dendrite and an axon, determining neuronal connectivity. Neuroscientists have observed that the human brain learns by modifying the synaptic connection strength between neurons through repeated stimulation from the same impulse. This dynamic process further underscores the remarkable nature of the architecture within the human brain's neural network.\n",
    "\n",
    "\n",
    "### How are they structured?\n",
    "An artificial neural network mirrors the complex organization of the human brain, consisting of processing units called nodes. These nodes, equivalent to neurons, act as the fundamental computation units. The connections between nodes, represented by directed links, resemble the interneuronal connections found in biological systems and are composed of axons and dendrites.\n",
    "\n",
    "The weight assigned to a directed link signifies the strength of the synaptic connection between neurons. Just as in biological neural systems, the core aim of an Artificial Neural Network (ANN) lies in adapting these weights. The network undergoes a learning process, adjusting the weights of the links until they align with the input-output relationships inherent in the underlying data. This iterative adaptation mirrors the learning mechanisms observed in biological neural systems, contributing to the network's ability to discern patterns and relationships within complex datasets."
   ]
  },
  {
   "cell_type": "markdown",
   "metadata": {
    "collapsed": false
   },
   "source": [
    "## References\n",
    "1. Tan, P.-N., Steinbach, M., & Kumar, V. (Year). *Introduction to Data Mining* (2nd ed.). Publisher.\n",
    "2. https://playground.tensorflow.org/#activation=sigmoid&batchSize=1&dataset=xor&regDataset=reg-plane&learningRate=0.01&regularizationRate=0&noise=15&networkShape=8,8,8&seed=0.12917&showTestData=false&discretize=false&percTrainData=60&x=true&y=true&xTimesY=true&xSquared=true&ySquared=true&cosX=false&sinX=true&cosY=false&sinY=true&collectStats=false&problem=classification&initZero=false&hideText=false\n",
    "3. https://medium.com/technology-invention-and-more/everything-you-need-to-know-about-artificial-neural-networks-57fac18245a1\n"
   ]
  },
  {
   "cell_type": "code",
   "execution_count": null,
   "metadata": {
    "ExecuteTime": {
     "end_time": "2024-01-26T21:27:57.656027Z",
     "start_time": "2024-01-26T21:27:57.650323Z"
    },
    "collapsed": false
   },
   "outputs": [],
   "source": []
  }
 ],
 "metadata": {
  "kernelspec": {
   "display_name": "Python 3",
   "language": "python",
   "name": "python3"
  },
  "language_info": {
   "codemirror_mode": {
    "name": "ipython",
    "version": 2
   },
   "file_extension": ".py",
   "mimetype": "text/x-python",
   "name": "python",
   "nbconvert_exporter": "python",
   "pygments_lexer": "ipython2",
   "version": "2.7.6"
  }
 },
 "nbformat": 4,
 "nbformat_minor": 0
}